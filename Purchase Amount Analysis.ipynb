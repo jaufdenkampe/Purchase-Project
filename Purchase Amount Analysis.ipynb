{
 "cells": [
  {
   "cell_type": "code",
   "execution_count": 16,
   "metadata": {},
   "outputs": [],
   "source": [
    "import numpy as np\n",
    "import pandas as pd\n",
    "from sklearn.preprocessing import StandardScaler\n",
    "from sklearn.decomposition import PCA\n",
    "from sklearn.cluster import KMeans\n",
    "import pickle\n",
    "import matplotlib.pyplot as plt\n",
    "import seaborn as sns\n",
    "sns.set()\n",
    "from sklearn.linear_model import LinearRegression\n",
    "import matplotlib.axis as axs"
   ]
  },
  {
   "cell_type": "code",
   "execution_count": 2,
   "metadata": {},
   "outputs": [],
   "source": [
    "df_purchase = pd.read_csv('purchase data.csv')\n",
    "scaler = pickle.load(open('scalar.pickle','rb'))\n",
    "pca = pickle.load(open('pca.pickle','rb'))\n",
    "kmeans_pca = pickle.load(open('kmeans_pca.pickle','rb'))\n",
    "features = df_purchase[['Sex', 'Marital status', 'Age', 'Education', 'Income', 'Occupation', 'Settlement size']]\n",
    "df_purchase_segm_std = scaler.transform(features)\n",
    "df_purchase_segm_std_pca = pca.transform(df_purchase_segm_std)\n",
    "purchase_segm_kmeans_pca = kmeans_pca.predict(df_purchase_segm_std_pca)\n",
    "df_purchase_predictors = df_purchase.copy()\n",
    "df_purchase_predictors['Segment'] = purchase_segm_kmeans_pca\n",
    "segment_dummies = pd.get_dummies(purchase_segm_kmeans_pca,prefix = 'Segment', prefix_sep = '_')\n",
    "df_purchase_predictors = pd.concat([df_purchase_predictors, segment_dummies], axis = 1)\n",
    "df_pa = df_purchase_predictors"
   ]
  },
  {
   "cell_type": "code",
   "execution_count": 62,
   "metadata": {},
   "outputs": [],
   "source": [
    "df_purchase_quantity = df_pa[df_pa['Incidence'] == 1]\n",
    "df_purchase_quantity = pd.get_dummies(df_purchase_quantity, columns = ['Brand'], prefix = 'Brand', prefix_sep = '_')\n",
    "df_purchase_quantity['Price Incidence'] = (df_purchase_quantity['Brand_1']*df_purchase_quantity['Price_1']+\n",
    "                                           df_purchase_quantity['Brand_2']*df_purchase_quantity['Price_2']+\n",
    "                                           df_purchase_quantity['Brand_3']*df_purchase_quantity['Price_3']+\n",
    "                                           df_purchase_quantity['Brand_4']*df_purchase_quantity['Price_4']+\n",
    "                                           df_purchase_quantity['Brand_5']*df_purchase_quantity['Price_5'])\n",
    "df_purchase_quantity['Promotion Incidence'] = (df_purchase_quantity['Brand_1']*df_purchase_quantity['Promotion_1']+\n",
    "                                           df_purchase_quantity['Brand_2']*df_purchase_quantity['Promotion_2']+\n",
    "                                           df_purchase_quantity['Brand_3']*df_purchase_quantity['Promotion_3']+\n",
    "                                           df_purchase_quantity['Brand_4']*df_purchase_quantity['Promotion_4']+\n",
    "                                           df_purchase_quantity['Brand_5']*df_purchase_quantity['Promotion_5'])"
   ]
  },
  {
   "cell_type": "code",
   "execution_count": 57,
   "metadata": {},
   "outputs": [
    {
     "data": {
      "text/plain": [
       "LinearRegression(copy_X=True, fit_intercept=True, n_jobs=None, normalize=False)"
      ]
     },
     "execution_count": 57,
     "metadata": {},
     "output_type": "execute_result"
    }
   ],
   "source": [
    "X = df_purchase_quantity[['Price Incidence', 'Promotion Incidence']]\n",
    "Y = df_purchase_quantity['Quantity']\n",
    "model_quantity = LinearRegression()\n",
    "model_quantity.fit(X,Y)"
   ]
  },
  {
   "cell_type": "code",
   "execution_count": 20,
   "metadata": {},
   "outputs": [
    {
     "data": {
      "text/plain": [
       "array([-0.8173651 , -0.10504673])"
      ]
     },
     "execution_count": 20,
     "metadata": {},
     "output_type": "execute_result"
    }
   ],
   "source": [
    "model_quantity.coef_"
   ]
  },
  {
   "cell_type": "code",
   "execution_count": 25,
   "metadata": {},
   "outputs": [],
   "source": [
    "price_range = np.arange(0.5,3.5,.01)\n",
    "df_price_elasticity_quantity = pd.DataFrame(index = np.arange(price_range.size))\n",
    "df_price_elasticity_quantity['Price Incidence']=price_range\n",
    "df_price_elasticity_quantity['Promotion Incidence']=1"
   ]
  },
  {
   "cell_type": "code",
   "execution_count": 27,
   "metadata": {},
   "outputs": [],
   "source": [
    "beta_quantity = model_quantity.coef_[0]\n",
    "predict_quantity = model_quantity.predict(df_price_elasticity_quantity)\n",
    "price_elasticity_quantity_promotion_yes = beta_quantity*price_range/predict_quantity"
   ]
  },
  {
   "cell_type": "code",
   "execution_count": 37,
   "metadata": {},
   "outputs": [
    {
     "data": {
      "text/html": [
       "<div>\n",
       "<style scoped>\n",
       "    .dataframe tbody tr th:only-of-type {\n",
       "        vertical-align: middle;\n",
       "    }\n",
       "\n",
       "    .dataframe tbody tr th {\n",
       "        vertical-align: top;\n",
       "    }\n",
       "\n",
       "    .dataframe thead th {\n",
       "        text-align: right;\n",
       "    }\n",
       "</style>\n",
       "<table border=\"1\" class=\"dataframe\">\n",
       "  <thead>\n",
       "    <tr style=\"text-align: right;\">\n",
       "      <th></th>\n",
       "      <th>0</th>\n",
       "      <th>PE quantity promotion 0</th>\n",
       "      <th>PE quantity promotion 1</th>\n",
       "    </tr>\n",
       "  </thead>\n",
       "  <tbody>\n",
       "    <tr>\n",
       "      <td>0</td>\n",
       "      <td>0.50</td>\n",
       "      <td>-0.099543</td>\n",
       "      <td>-0.102157</td>\n",
       "    </tr>\n",
       "    <tr>\n",
       "      <td>1</td>\n",
       "      <td>0.51</td>\n",
       "      <td>-0.101736</td>\n",
       "      <td>-0.104413</td>\n",
       "    </tr>\n",
       "    <tr>\n",
       "      <td>2</td>\n",
       "      <td>0.52</td>\n",
       "      <td>-0.103939</td>\n",
       "      <td>-0.106679</td>\n",
       "    </tr>\n",
       "    <tr>\n",
       "      <td>3</td>\n",
       "      <td>0.53</td>\n",
       "      <td>-0.106150</td>\n",
       "      <td>-0.108954</td>\n",
       "    </tr>\n",
       "    <tr>\n",
       "      <td>4</td>\n",
       "      <td>0.54</td>\n",
       "      <td>-0.108369</td>\n",
       "      <td>-0.111238</td>\n",
       "    </tr>\n",
       "    <tr>\n",
       "      <td>...</td>\n",
       "      <td>...</td>\n",
       "      <td>...</td>\n",
       "      <td>...</td>\n",
       "    </tr>\n",
       "    <tr>\n",
       "      <td>295</td>\n",
       "      <td>3.45</td>\n",
       "      <td>-1.664290</td>\n",
       "      <td>-1.774292</td>\n",
       "    </tr>\n",
       "    <tr>\n",
       "      <td>296</td>\n",
       "      <td>3.46</td>\n",
       "      <td>-1.677205</td>\n",
       "      <td>-1.788634</td>\n",
       "    </tr>\n",
       "    <tr>\n",
       "      <td>297</td>\n",
       "      <td>3.47</td>\n",
       "      <td>-1.690246</td>\n",
       "      <td>-1.803124</td>\n",
       "    </tr>\n",
       "    <tr>\n",
       "      <td>298</td>\n",
       "      <td>3.48</td>\n",
       "      <td>-1.703414</td>\n",
       "      <td>-1.817766</td>\n",
       "    </tr>\n",
       "    <tr>\n",
       "      <td>299</td>\n",
       "      <td>3.49</td>\n",
       "      <td>-1.716712</td>\n",
       "      <td>-1.832562</td>\n",
       "    </tr>\n",
       "  </tbody>\n",
       "</table>\n",
       "<p>300 rows × 3 columns</p>\n",
       "</div>"
      ],
      "text/plain": [
       "        0  PE quantity promotion 0  PE quantity promotion 1\n",
       "0    0.50                -0.099543                -0.102157\n",
       "1    0.51                -0.101736                -0.104413\n",
       "2    0.52                -0.103939                -0.106679\n",
       "3    0.53                -0.106150                -0.108954\n",
       "4    0.54                -0.108369                -0.111238\n",
       "..    ...                      ...                      ...\n",
       "295  3.45                -1.664290                -1.774292\n",
       "296  3.46                -1.677205                -1.788634\n",
       "297  3.47                -1.690246                -1.803124\n",
       "298  3.48                -1.703414                -1.817766\n",
       "299  3.49                -1.716712                -1.832562\n",
       "\n",
       "[300 rows x 3 columns]"
      ]
     },
     "execution_count": 37,
     "metadata": {},
     "output_type": "execute_result"
    }
   ],
   "source": [
    "\n",
    "\n",
    "df_price_elasticities['PE quantity promotion 1']=price_elasticity_quantity_promotion_yes\n",
    "df_price_elasticities"
   ]
  },
  {
   "cell_type": "code",
   "execution_count": 32,
   "metadata": {},
   "outputs": [
    {
     "data": {
      "text/plain": [
       "Text(0.5, 1.0, 'price elasticity of purchase quantity with promotion')"
      ]
     },
     "execution_count": 32,
     "metadata": {},
     "output_type": "execute_result"
    },
    {
     "data": {
      "image/png": "[encoded data removed]",
      "text/plain": [
       "<Figure size 432x288 with 1 Axes>"
      ]
     },
     "metadata": {},
     "output_type": "display_data"
    }
   ],
   "source": [
    "plt.figsize=(9,6)\n",
    "plt.plot(price_range, price_elasticity_quantity_promotion_yes)\n",
    "plt.xlabel('price range')\n",
    "plt.ylabel('elasticity')\n",
    "plt.title('price elasticity of purchase quantity with promotion')"
   ]
  },
  {
   "cell_type": "code",
   "execution_count": 38,
   "metadata": {},
   "outputs": [
    {
     "data": {
      "text/html": [
       "<div>\n",
       "<style scoped>\n",
       "    .dataframe tbody tr th:only-of-type {\n",
       "        vertical-align: middle;\n",
       "    }\n",
       "\n",
       "    .dataframe tbody tr th {\n",
       "        vertical-align: top;\n",
       "    }\n",
       "\n",
       "    .dataframe thead th {\n",
       "        text-align: right;\n",
       "    }\n",
       "</style>\n",
       "<table border=\"1\" class=\"dataframe\">\n",
       "  <thead>\n",
       "    <tr style=\"text-align: right;\">\n",
       "      <th></th>\n",
       "      <th>0</th>\n",
       "      <th>PE quantity promotion 0</th>\n",
       "      <th>PE quantity promotion 1</th>\n",
       "    </tr>\n",
       "  </thead>\n",
       "  <tbody>\n",
       "    <tr>\n",
       "      <td>0</td>\n",
       "      <td>0.50</td>\n",
       "      <td>-0.099543</td>\n",
       "      <td>-0.102157</td>\n",
       "    </tr>\n",
       "    <tr>\n",
       "      <td>1</td>\n",
       "      <td>0.51</td>\n",
       "      <td>-0.101736</td>\n",
       "      <td>-0.104413</td>\n",
       "    </tr>\n",
       "    <tr>\n",
       "      <td>2</td>\n",
       "      <td>0.52</td>\n",
       "      <td>-0.103939</td>\n",
       "      <td>-0.106679</td>\n",
       "    </tr>\n",
       "    <tr>\n",
       "      <td>3</td>\n",
       "      <td>0.53</td>\n",
       "      <td>-0.106150</td>\n",
       "      <td>-0.108954</td>\n",
       "    </tr>\n",
       "    <tr>\n",
       "      <td>4</td>\n",
       "      <td>0.54</td>\n",
       "      <td>-0.108369</td>\n",
       "      <td>-0.111238</td>\n",
       "    </tr>\n",
       "    <tr>\n",
       "      <td>...</td>\n",
       "      <td>...</td>\n",
       "      <td>...</td>\n",
       "      <td>...</td>\n",
       "    </tr>\n",
       "    <tr>\n",
       "      <td>295</td>\n",
       "      <td>3.45</td>\n",
       "      <td>-1.664290</td>\n",
       "      <td>-1.774292</td>\n",
       "    </tr>\n",
       "    <tr>\n",
       "      <td>296</td>\n",
       "      <td>3.46</td>\n",
       "      <td>-1.677205</td>\n",
       "      <td>-1.788634</td>\n",
       "    </tr>\n",
       "    <tr>\n",
       "      <td>297</td>\n",
       "      <td>3.47</td>\n",
       "      <td>-1.690246</td>\n",
       "      <td>-1.803124</td>\n",
       "    </tr>\n",
       "    <tr>\n",
       "      <td>298</td>\n",
       "      <td>3.48</td>\n",
       "      <td>-1.703414</td>\n",
       "      <td>-1.817766</td>\n",
       "    </tr>\n",
       "    <tr>\n",
       "      <td>299</td>\n",
       "      <td>3.49</td>\n",
       "      <td>-1.716712</td>\n",
       "      <td>-1.832562</td>\n",
       "    </tr>\n",
       "  </tbody>\n",
       "</table>\n",
       "<p>300 rows × 3 columns</p>\n",
       "</div>"
      ],
      "text/plain": [
       "        0  PE quantity promotion 0  PE quantity promotion 1\n",
       "0    0.50                -0.099543                -0.102157\n",
       "1    0.51                -0.101736                -0.104413\n",
       "2    0.52                -0.103939                -0.106679\n",
       "3    0.53                -0.106150                -0.108954\n",
       "4    0.54                -0.108369                -0.111238\n",
       "..    ...                      ...                      ...\n",
       "295  3.45                -1.664290                -1.774292\n",
       "296  3.46                -1.677205                -1.788634\n",
       "297  3.47                -1.690246                -1.803124\n",
       "298  3.48                -1.703414                -1.817766\n",
       "299  3.49                -1.716712                -1.832562\n",
       "\n",
       "[300 rows x 3 columns]"
      ]
     },
     "execution_count": 38,
     "metadata": {},
     "output_type": "execute_result"
    }
   ],
   "source": [
    "df_price_elasticity_quantity['Promotion Incidence']=0\n",
    "predict_quantity = model_quantity.predict(df_price_elasticity_quantity)\n",
    "price_elasticity_quantity_promotion_no = beta_quantity*price_range/predict_quantity\n",
    "\n",
    "df_price_elasticities['PE quantity promotion 0']=price_elasticity_quantity_promotion_no\n",
    "df_price_elasticities"
   ]
  },
  {
   "cell_type": "code",
   "execution_count": 41,
   "metadata": {},
   "outputs": [
    {
     "data": {
      "text/plain": [
       "Text(0.5, 1.0, 'price elasticity of purchase quantity without promotion')"
      ]
     },
     "execution_count": 41,
     "metadata": {},
     "output_type": "execute_result"
    },
    {
     "data": {
      "image/png": "[encoded data removed]",
      "text/plain": [
       "<Figure size 432x288 with 1 Axes>"
      ]
     },
     "metadata": {},
     "output_type": "display_data"
    }
   ],
   "source": [
    "plt.figsize=(9,6)\n",
    "plt.plot(price_range, price_elasticity_quantity_promotion_no, color = 'orange')\n",
    "plt.plot(price_range, price_elasticity_quantity_promotion_yes)\n",
    "\n",
    "plt.xlabel('price range')\n",
    "plt.ylabel('elasticity')\n",
    "plt.title('price elasticity of purchase quantity without promotion')"
   ]
  },
  {
   "cell_type": "code",
   "execution_count": null,
   "metadata": {},
   "outputs": [],
   "source": []
  },
  {
   "cell_type": "code",
   "execution_count": null,
   "metadata": {},
   "outputs": [],
   "source": []
  },
  {
   "cell_type": "code",
   "execution_count": null,
   "metadata": {},
   "outputs": [],
   "source": []
  }
 ],
 "metadata": {
  "kernelspec": {
   "display_name": "Python 3",
   "language": "python",
   "name": "python3"
  },
  "language_info": {
   "codemirror_mode": {
    "name": "ipython",
    "version": 3
   },
   "file_extension": ".py",
   "mimetype": "text/x-python",
   "name": "python",
   "nbconvert_exporter": "python",
   "pygments_lexer": "ipython3",
   "version": "3.7.4"
  }
 },
 "nbformat": 4,
 "nbformat_minor": 2
}
